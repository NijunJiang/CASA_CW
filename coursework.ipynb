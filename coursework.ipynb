{
 "cells": [
  {
   "cell_type": "markdown",
   "id": "d2765f2e-cb2b-4922-b921-bb47f2891e27",
   "metadata": {},
   "source": [
    "# Spatial analysis of Chicago burglary crime patterns "
   ]
  },
  {
   "cell_type": "markdown",
   "id": "b140ca35-a121-42b5-9a30-7d79be065c63",
   "metadata": {},
   "source": [
    "## 1.0 Introduction and analysis context"
   ]
  },
  {
   "cell_type": "markdown",
   "id": "de475f68-4485-418d-81cf-05b7f8496805",
   "metadata": {},
   "source": [
    "### 1.1 Context and literature review"
   ]
  },
  {
   "cell_type": "markdown",
   "id": "67f54e42-e164-4175-9286-f101ceef194f",
   "metadata": {},
   "source": [
    "The continuous digitisation of police recorded crime statistics enables researchers and authorities to probe urban crime in depth. There are several related studies from different perspectives and using various computational techniques. From an academic and governing angle, spatial analysis of criminal activities plays an essential role in criminological research and policymaking (Andresen, 2005). A spatial analysis of the burglary crime incidents could help policymakers allocate public and human resources to where they can be most effective. Better management of burglary risk can potentially have a positive economic impact. In the united states alone, burglary offences caused around USD 3.0 billion in property losses in 2019 (FBI, 2019). Spatial patterns of the burglary that this project found can be associated with other local socio-economic factors to determine which kind of neighbourhoods are prone to burglaries (Craglia, Haining and Wiles, 2000).  \n",
    "\n",
    "A range of clustering methods, including the DBSCAN algorithm, K - Nearest Neighbor and Artificial Neural Network, were applicable to crime pattern mapping (Mungekar et al., 2021). However, according to a study analysing six Indian cities, DBSCAN outperforms K-Means clustering and Agglomerative hierarchical clustering in terms of recall and precision (Sivaranjani, Sivakumari and Aasha, 2016)."
   ]
  },
  {
   "cell_type": "markdown",
   "id": "6d1cef7f-d798-4d0f-a83c-42215100a59a",
   "metadata": {},
   "source": [
    "### 1.2 Project goals"
   ]
  },
  {
   "cell_type": "markdown",
   "id": "0601663f-845a-4ec4-b32f-c1ff639bd698",
   "metadata": {},
   "source": [
    "This project aims to provide a statistical spatial analysis of burglary crime incidents in Chicago and related visualisations. \n",
    "Appropriate clustering methods will identify clusters of crime incidents and administrative regions with a high burglary rate.\n",
    "The underlaying socio-economic factors that correlate with high crime risk will be investigated by regression methods.\n",
    "\n",
    "Goals bullet points and their potential real-world impacts:<br>\n",
    "\n",
    "| Tasks | Task Categories | Real-world impacts |\n",
    "| :---        |    :----  |          :--- |\n",
    "| Identification of burglary crime clusters | Classification of point data | Crime control and preventation, a more efficient use of the police force |\n",
    "| Identification of communities with exceptional burglary crime rat | Classification of polygons (administrative area) | Local policy change |\n",
    "| Identification of socio-economic factors that correlate with burglary rate | Regression | Prediction of high-burglary-rate areas |"
   ]
  },
  {
   "cell_type": "markdown",
   "id": "a35ca9fa-6303-4e5a-bdc4-c3572e9d3a86",
   "metadata": {},
   "source": [
    "### 1.3 Data source "
   ]
  },
  {
   "cell_type": "markdown",
   "id": "b07350e8-b6e6-4d8d-aba6-8b041fac45b0",
   "metadata": {},
   "source": [
    "The complete dataset of Chicago crime incidents from 2001 to the present is available through Chicago Data Portal. However, due to the scope of this analysis and the dataset's massive nature (over 7.5 million rows in March 2022), a filter is essential for obtaining a suitable subset, which contains burglary records only, and a swift data preprocessing and validation section. One way to implement such a filter is using a python package called sodapy, which is not available inside the SDS computing environment. An example is here: [github link]. The example python code needs an app token (registration with Chicago Data Portal required) and one line of NoSQL query to run.\n",
    "\n",
    "Chicago crimes -2001 to Present: https://data.cityofchicago.org/Public-Safety/Crimes-2001-to-Present/ijzp-q8t2\n",
    "\n",
    "The web page above includes metadata and column descriptions. Two columns, 'Latitude' and 'Longitude', make the geocoding of the point crime events possible.\n",
    "\n",
    "The Data Portal offers shapefiles of Chicago wards. This project utilised shapefiles to provide an intuitive map of urban burglary density and risk.\n",
    "\n",
    "Chicago Boundaries - Wards (2015 - ): https://data.cityofchicago.org/Facilities-Geographic-Boundaries/Boundaries-Wards-2015-/sp34-6z76"
   ]
  },
  {
   "cell_type": "markdown",
   "id": "b23c11c6-ce8a-4c48-a411-22912b2743ba",
   "metadata": {},
   "source": [
    "### 1.4 Package requirement"
   ]
  },
  {
   "cell_type": "code",
   "execution_count": 1,
   "id": "f87528b1-78c0-46b4-8793-13d4f38fb6a6",
   "metadata": {},
   "outputs": [],
   "source": [
    "import geopandas as gpd\n",
    "import matplotlib.pyplot as plt\n",
    "import pandas as pd\n",
    "import seaborn as sns\n",
    "from IPython.display import HTML, display\n",
    "from shapely.geometry import Point, Polygon\n",
    "from sklearn import metrics"
   ]
  },
  {
   "cell_type": "markdown",
   "id": "7617716b-14f6-4462-96d8-5262b19ae3ef",
   "metadata": {},
   "source": [
    "123"
   ]
  },
  {
   "cell_type": "markdown",
   "id": "8fbfe643-e3f0-4f2b-952c-d5bd1e7dec91",
   "metadata": {},
   "source": [
    "## 2. Data preparation"
   ]
  },
  {
   "cell_type": "markdown",
   "id": "285f4af0-5f80-40e4-8901-64c63e1f3930",
   "metadata": {},
   "source": [
    "### 2.1 Data Input"
   ]
  },
  {
   "cell_type": "code",
   "execution_count": 2,
   "id": "94dfd8fb-26e2-4b44-b485-35aabfa2e42b",
   "metadata": {},
   "outputs": [],
   "source": [
    "BURGLARY_2020 = pd.read_csv(\n",
    "    \"https://raw.githubusercontent.com/NijunJiang/CASA0006_2022/main/BURGLARY_2020.csv\"\n",
    ")\n",
    "chicago_community_pop = pd.read_csv(\n",
    "    \"https://raw.githubusercontent.com/NijunJiang/CASA0006_2022/main/chicago_community_population.CSV\"\n",
    ")\n",
    "chicago_community = gpd.read_file(\n",
    "    \"/vsicurl/https://raw.githubusercontent.com/NijunJiang/CASA0006_2022/main/geo_export_d1f0aa30-5958-4286-841c-d61250028149.shp\"\n",
    ")"
   ]
  },
  {
   "cell_type": "markdown",
   "id": "6a7b6817-d5de-45b0-beee-133355f78e19",
   "metadata": {},
   "source": [
    "In the section below, there are five rows of the dataset. "
   ]
  },
  {
   "cell_type": "code",
   "execution_count": 3,
   "id": "555201c4-8993-41bc-84ed-e982ea6f5218",
   "metadata": {},
   "outputs": [
    {
     "data": {
      "text/html": [
       "<div>\n",
       "<style scoped>\n",
       "    .dataframe tbody tr th:only-of-type {\n",
       "        vertical-align: middle;\n",
       "    }\n",
       "\n",
       "    .dataframe tbody tr th {\n",
       "        vertical-align: top;\n",
       "    }\n",
       "\n",
       "    .dataframe thead th {\n",
       "        text-align: right;\n",
       "    }\n",
       "</style>\n",
       "<table border=\"1\" class=\"dataframe\">\n",
       "  <thead>\n",
       "    <tr style=\"text-align: right;\">\n",
       "      <th></th>\n",
       "      <th>community number</th>\n",
       "      <th>Population</th>\n",
       "    </tr>\n",
       "  </thead>\n",
       "  <tbody>\n",
       "    <tr>\n",
       "      <th>0</th>\n",
       "      <td>1</td>\n",
       "      <td>55628</td>\n",
       "    </tr>\n",
       "    <tr>\n",
       "      <th>1</th>\n",
       "      <td>2</td>\n",
       "      <td>77122</td>\n",
       "    </tr>\n",
       "    <tr>\n",
       "      <th>2</th>\n",
       "      <td>3</td>\n",
       "      <td>57182</td>\n",
       "    </tr>\n",
       "    <tr>\n",
       "      <th>3</th>\n",
       "      <td>4</td>\n",
       "      <td>40494</td>\n",
       "    </tr>\n",
       "    <tr>\n",
       "      <th>4</th>\n",
       "      <td>5</td>\n",
       "      <td>35114</td>\n",
       "    </tr>\n",
       "    <tr>\n",
       "      <th>...</th>\n",
       "      <td>...</td>\n",
       "      <td>...</td>\n",
       "    </tr>\n",
       "    <tr>\n",
       "      <th>72</th>\n",
       "      <td>73</td>\n",
       "      <td>25065</td>\n",
       "    </tr>\n",
       "    <tr>\n",
       "      <th>73</th>\n",
       "      <td>74</td>\n",
       "      <td>18628</td>\n",
       "    </tr>\n",
       "    <tr>\n",
       "      <th>74</th>\n",
       "      <td>75</td>\n",
       "      <td>21186</td>\n",
       "    </tr>\n",
       "    <tr>\n",
       "      <th>75</th>\n",
       "      <td>76</td>\n",
       "      <td>13418</td>\n",
       "    </tr>\n",
       "    <tr>\n",
       "      <th>76</th>\n",
       "      <td>77</td>\n",
       "      <td>56296</td>\n",
       "    </tr>\n",
       "  </tbody>\n",
       "</table>\n",
       "<p>77 rows × 2 columns</p>\n",
       "</div>"
      ],
      "text/plain": [
       "    community number  Population\n",
       "0                  1       55628\n",
       "1                  2       77122\n",
       "2                  3       57182\n",
       "3                  4       40494\n",
       "4                  5       35114\n",
       "..               ...         ...\n",
       "72                73       25065\n",
       "73                74       18628\n",
       "74                75       21186\n",
       "75                76       13418\n",
       "76                77       56296\n",
       "\n",
       "[77 rows x 2 columns]"
      ]
     },
     "execution_count": 3,
     "metadata": {},
     "output_type": "execute_result"
    }
   ],
   "source": [
    "chicago_community_pop\n",
    "chicago_community_pop.rename(columns={\"No.\": \"community number\"}, inplace=True)\n",
    "chicago_community_pop"
   ]
  },
  {
   "cell_type": "code",
   "execution_count": 13,
   "id": "59e33636-a2f6-4a47-905e-47ccc62e2966",
   "metadata": {},
   "outputs": [
    {
     "data": {
      "text/html": [
       "<div>\n",
       "<style scoped>\n",
       "    .dataframe tbody tr th:only-of-type {\n",
       "        vertical-align: middle;\n",
       "    }\n",
       "\n",
       "    .dataframe tbody tr th {\n",
       "        vertical-align: top;\n",
       "    }\n",
       "\n",
       "    .dataframe thead th {\n",
       "        text-align: right;\n",
       "    }\n",
       "</style>\n",
       "<table border=\"1\" class=\"dataframe\">\n",
       "  <thead>\n",
       "    <tr style=\"text-align: right;\">\n",
       "      <th></th>\n",
       "      <th>area</th>\n",
       "      <th>area_num_1</th>\n",
       "      <th>area_numbe</th>\n",
       "      <th>comarea</th>\n",
       "      <th>comarea_id</th>\n",
       "      <th>community</th>\n",
       "      <th>perimeter</th>\n",
       "      <th>shape_area</th>\n",
       "      <th>shape_len</th>\n",
       "      <th>geometry</th>\n",
       "    </tr>\n",
       "  </thead>\n",
       "  <tbody>\n",
       "    <tr>\n",
       "      <th>0</th>\n",
       "      <td>0.0</td>\n",
       "      <td>35</td>\n",
       "      <td>35</td>\n",
       "      <td>0.0</td>\n",
       "      <td>0.0</td>\n",
       "      <td>DOUGLAS</td>\n",
       "      <td>0.0</td>\n",
       "      <td>4.600462e+07</td>\n",
       "      <td>31027.054510</td>\n",
       "      <td>POLYGON ((-87.60914 41.84469, -87.60915 41.844...</td>\n",
       "    </tr>\n",
       "    <tr>\n",
       "      <th>1</th>\n",
       "      <td>0.0</td>\n",
       "      <td>36</td>\n",
       "      <td>36</td>\n",
       "      <td>0.0</td>\n",
       "      <td>0.0</td>\n",
       "      <td>OAKLAND</td>\n",
       "      <td>0.0</td>\n",
       "      <td>1.691396e+07</td>\n",
       "      <td>19565.506153</td>\n",
       "      <td>POLYGON ((-87.59215 41.81693, -87.59231 41.816...</td>\n",
       "    </tr>\n",
       "    <tr>\n",
       "      <th>2</th>\n",
       "      <td>0.0</td>\n",
       "      <td>37</td>\n",
       "      <td>37</td>\n",
       "      <td>0.0</td>\n",
       "      <td>0.0</td>\n",
       "      <td>FULLER PARK</td>\n",
       "      <td>0.0</td>\n",
       "      <td>1.991670e+07</td>\n",
       "      <td>25339.089750</td>\n",
       "      <td>POLYGON ((-87.62880 41.80189, -87.62879 41.801...</td>\n",
       "    </tr>\n",
       "    <tr>\n",
       "      <th>3</th>\n",
       "      <td>0.0</td>\n",
       "      <td>38</td>\n",
       "      <td>38</td>\n",
       "      <td>0.0</td>\n",
       "      <td>0.0</td>\n",
       "      <td>GRAND BOULEVARD</td>\n",
       "      <td>0.0</td>\n",
       "      <td>4.849250e+07</td>\n",
       "      <td>28196.837157</td>\n",
       "      <td>POLYGON ((-87.60671 41.81681, -87.60670 41.816...</td>\n",
       "    </tr>\n",
       "    <tr>\n",
       "      <th>4</th>\n",
       "      <td>0.0</td>\n",
       "      <td>39</td>\n",
       "      <td>39</td>\n",
       "      <td>0.0</td>\n",
       "      <td>0.0</td>\n",
       "      <td>KENWOOD</td>\n",
       "      <td>0.0</td>\n",
       "      <td>2.907174e+07</td>\n",
       "      <td>23325.167906</td>\n",
       "      <td>POLYGON ((-87.59215 41.81693, -87.59215 41.816...</td>\n",
       "    </tr>\n",
       "    <tr>\n",
       "      <th>...</th>\n",
       "      <td>...</td>\n",
       "      <td>...</td>\n",
       "      <td>...</td>\n",
       "      <td>...</td>\n",
       "      <td>...</td>\n",
       "      <td>...</td>\n",
       "      <td>...</td>\n",
       "      <td>...</td>\n",
       "      <td>...</td>\n",
       "      <td>...</td>\n",
       "    </tr>\n",
       "    <tr>\n",
       "      <th>72</th>\n",
       "      <td>0.0</td>\n",
       "      <td>74</td>\n",
       "      <td>74</td>\n",
       "      <td>0.0</td>\n",
       "      <td>0.0</td>\n",
       "      <td>MOUNT GREENWOOD</td>\n",
       "      <td>0.0</td>\n",
       "      <td>7.558429e+07</td>\n",
       "      <td>48665.130539</td>\n",
       "      <td>POLYGON ((-87.69646 41.70714, -87.69644 41.706...</td>\n",
       "    </tr>\n",
       "    <tr>\n",
       "      <th>73</th>\n",
       "      <td>0.0</td>\n",
       "      <td>75</td>\n",
       "      <td>75</td>\n",
       "      <td>0.0</td>\n",
       "      <td>0.0</td>\n",
       "      <td>MORGAN PARK</td>\n",
       "      <td>0.0</td>\n",
       "      <td>9.187734e+07</td>\n",
       "      <td>46396.419362</td>\n",
       "      <td>POLYGON ((-87.64215 41.68508, -87.64249 41.685...</td>\n",
       "    </tr>\n",
       "    <tr>\n",
       "      <th>74</th>\n",
       "      <td>0.0</td>\n",
       "      <td>76</td>\n",
       "      <td>76</td>\n",
       "      <td>0.0</td>\n",
       "      <td>0.0</td>\n",
       "      <td>OHARE</td>\n",
       "      <td>0.0</td>\n",
       "      <td>3.718356e+08</td>\n",
       "      <td>173625.984660</td>\n",
       "      <td>MULTIPOLYGON (((-87.83658 41.98640, -87.83658 ...</td>\n",
       "    </tr>\n",
       "    <tr>\n",
       "      <th>75</th>\n",
       "      <td>0.0</td>\n",
       "      <td>77</td>\n",
       "      <td>77</td>\n",
       "      <td>0.0</td>\n",
       "      <td>0.0</td>\n",
       "      <td>EDGEWATER</td>\n",
       "      <td>0.0</td>\n",
       "      <td>4.844999e+07</td>\n",
       "      <td>31004.830946</td>\n",
       "      <td>POLYGON ((-87.65456 41.99817, -87.65456 41.998...</td>\n",
       "    </tr>\n",
       "    <tr>\n",
       "      <th>76</th>\n",
       "      <td>0.0</td>\n",
       "      <td>9</td>\n",
       "      <td>9</td>\n",
       "      <td>0.0</td>\n",
       "      <td>0.0</td>\n",
       "      <td>EDISON PARK</td>\n",
       "      <td>0.0</td>\n",
       "      <td>3.163631e+07</td>\n",
       "      <td>25937.226841</td>\n",
       "      <td>POLYGON ((-87.80676 42.00084, -87.80676 42.000...</td>\n",
       "    </tr>\n",
       "  </tbody>\n",
       "</table>\n",
       "<p>77 rows × 10 columns</p>\n",
       "</div>"
      ],
      "text/plain": [
       "    area area_num_1 area_numbe  comarea  comarea_id        community  \\\n",
       "0    0.0         35         35      0.0         0.0          DOUGLAS   \n",
       "1    0.0         36         36      0.0         0.0          OAKLAND   \n",
       "2    0.0         37         37      0.0         0.0      FULLER PARK   \n",
       "3    0.0         38         38      0.0         0.0  GRAND BOULEVARD   \n",
       "4    0.0         39         39      0.0         0.0          KENWOOD   \n",
       "..   ...        ...        ...      ...         ...              ...   \n",
       "72   0.0         74         74      0.0         0.0  MOUNT GREENWOOD   \n",
       "73   0.0         75         75      0.0         0.0      MORGAN PARK   \n",
       "74   0.0         76         76      0.0         0.0            OHARE   \n",
       "75   0.0         77         77      0.0         0.0        EDGEWATER   \n",
       "76   0.0          9          9      0.0         0.0      EDISON PARK   \n",
       "\n",
       "    perimeter    shape_area      shape_len  \\\n",
       "0         0.0  4.600462e+07   31027.054510   \n",
       "1         0.0  1.691396e+07   19565.506153   \n",
       "2         0.0  1.991670e+07   25339.089750   \n",
       "3         0.0  4.849250e+07   28196.837157   \n",
       "4         0.0  2.907174e+07   23325.167906   \n",
       "..        ...           ...            ...   \n",
       "72        0.0  7.558429e+07   48665.130539   \n",
       "73        0.0  9.187734e+07   46396.419362   \n",
       "74        0.0  3.718356e+08  173625.984660   \n",
       "75        0.0  4.844999e+07   31004.830946   \n",
       "76        0.0  3.163631e+07   25937.226841   \n",
       "\n",
       "                                             geometry  \n",
       "0   POLYGON ((-87.60914 41.84469, -87.60915 41.844...  \n",
       "1   POLYGON ((-87.59215 41.81693, -87.59231 41.816...  \n",
       "2   POLYGON ((-87.62880 41.80189, -87.62879 41.801...  \n",
       "3   POLYGON ((-87.60671 41.81681, -87.60670 41.816...  \n",
       "4   POLYGON ((-87.59215 41.81693, -87.59215 41.816...  \n",
       "..                                                ...  \n",
       "72  POLYGON ((-87.69646 41.70714, -87.69644 41.706...  \n",
       "73  POLYGON ((-87.64215 41.68508, -87.64249 41.685...  \n",
       "74  MULTIPOLYGON (((-87.83658 41.98640, -87.83658 ...  \n",
       "75  POLYGON ((-87.65456 41.99817, -87.65456 41.998...  \n",
       "76  POLYGON ((-87.80676 42.00084, -87.80676 42.000...  \n",
       "\n",
       "[77 rows x 10 columns]"
      ]
     },
     "execution_count": 13,
     "metadata": {},
     "output_type": "execute_result"
    }
   ],
   "source": [
    "chicago_community"
   ]
  },
  {
   "cell_type": "markdown",
   "id": "f16fc927-46be-4c27-804a-1c55be68f924",
   "metadata": {},
   "source": [
    "### 2.2 Data Preprocessing and Validation"
   ]
  },
  {
   "cell_type": "markdown",
   "id": "c5a477b6-592c-4086-a7e8-0b0433f16cd2",
   "metadata": {},
   "source": [
    "Previous sections loaded datasets that this project will analyse. However, several data preprocessing steps should proceed before further analysis. The first step is data cleaning. In the 2020 dataset, there are over eight thousand rows of burglary records. To ensure a successful implementation of spatial analysis techniques (e.g. DBSCAN), filtering out rows that contain NULL, N/A, or zero values in the geographic location columns (e.g. latitude and longitude columns) is necessary. "
   ]
  },
  {
   "cell_type": "code",
   "execution_count": 4,
   "id": "37ee1296-054b-4c4e-a45d-676fab51de41",
   "metadata": {},
   "outputs": [
    {
     "name": "stdout",
     "output_type": "stream",
     "text": [
      "Before the first step of data cleaning, the 2020 dataset has 8752 rows After cleaning, there are 8704 rows remaining\n"
     ]
    }
   ],
   "source": [
    "# Do not rerun the section after first attempt; otherwise the row number difference before and after the cleaning will not show\n",
    "# Completeness check\n",
    "before_clearning_size = BURGLARY_2020.shape[0]\n",
    "BURGLARY_2020 = BURGLARY_2020[BURGLARY_2020[\"latitude\"].notna()]\n",
    "BURGLARY_2020 = BURGLARY_2020[BURGLARY_2020[\"longitude\"].notna()]\n",
    "after_clearning_size = BURGLARY_2020.shape[0]\n",
    "print(\n",
    "    \"Before the first step of data cleaning, the 2020 dataset has \"\n",
    "    + str(before_clearning_size)\n",
    "    + \" rows\"\n",
    "    + \" After cleaning, there are \"\n",
    "    + str(after_clearning_size)\n",
    "    + \" rows remaining\"\n",
    ")"
   ]
  },
  {
   "cell_type": "markdown",
   "id": "a5d6985c-18ce-48ab-a88b-a0b69dc15901",
   "metadata": {},
   "source": [
    "It is also possible that there are duplicate incidents. The section below will drop potential duplicate rows based on three columns: case_number, id and location."
   ]
  },
  {
   "cell_type": "code",
   "execution_count": 5,
   "id": "9e26d9f2-d4e2-4335-9436-277f9ee5f58f",
   "metadata": {},
   "outputs": [
    {
     "name": "stdout",
     "output_type": "stream",
     "text": [
      "Before the second step of data cleaning, the 2020 dataset has 8704 rows After cleaning, there are 8704 rows remaining\n"
     ]
    }
   ],
   "source": [
    "# Duplicate identification and elimination\n",
    "before_clearning_size2 = BURGLARY_2020.shape[0]\n",
    "BURGLARY_2020.drop_duplicates(subset=[\"id\", \"case_number\", \"location\"])\n",
    "after_clearning_size2 = BURGLARY_2020.shape[0]\n",
    "print(\n",
    "    \"Before the second step of data cleaning, the 2020 dataset has \"\n",
    "    + str(before_clearning_size2)\n",
    "    + \" rows\"\n",
    "    + \" After cleaning, there are \"\n",
    "    + str(after_clearning_size2)\n",
    "    + \" rows remaining\"\n",
    ")"
   ]
  },
  {
   "cell_type": "markdown",
   "id": "b057dbb3-7f11-4f5d-a37d-981bed36bebb",
   "metadata": {},
   "source": [
    "Fortunately, the Data Fulfillment and Analysis Section of the Chicago Police Department did not record any duplicate cases in 2020. The next step is data type checking. We require that location information is in numerical forms, such as float."
   ]
  },
  {
   "cell_type": "code",
   "execution_count": 6,
   "id": "6f4f7b5e-9550-4da5-945d-80364cd73d68",
   "metadata": {},
   "outputs": [
    {
     "name": "stdout",
     "output_type": "stream",
     "text": [
      "Column Latitude data type: float64\n",
      "Column Longitude data type: float64\n"
     ]
    }
   ],
   "source": [
    "print(\"Column Latitude data type: \" + str(BURGLARY_2020[\"latitude\"].dtypes))\n",
    "print(\"Column Longitude data type: \" + str(BURGLARY_2020[\"longitude\"].dtypes))"
   ]
  },
  {
   "cell_type": "markdown",
   "id": "feb7d708-d357-4ca4-9828-3eaeebf6c10e",
   "metadata": {},
   "source": [
    "The data type of the two essential columns is, as expected, the float number. The final step of preprocessing should be outlier detection. However, due to the nature (official police records) of this 2020 dataset, it is unlikely that any data point is random. All rows have their wards and community numbers, which means removing isolated cases will reduce the burglary rate in administrative areas and cause bias. While applying DBSCAN, the algorithm will automatically disregard incidents that do not belong to any clusters. This project will not use statistical methods to detect and remove outlier events at the preprocessing stage."
   ]
  },
  {
   "cell_type": "markdown",
   "id": "bf801973-2559-4cc8-8a63-3ec555fe1379",
   "metadata": {},
   "source": [
    "### 2.3 Data Munging"
   ]
  },
  {
   "cell_type": "markdown",
   "id": "79bfd19a-c277-4b78-af4c-f371819c88e9",
   "metadata": {},
   "source": [
    "There is one row of the burglary case record in the section below. Twenty-three columns provide a rich range of information, but not all of them are essential ingredients for a spatial study. Among them, four columns: ward, community area, latitude and longitude, will take part in the spatial analysis. Neither regression nor classification will use all remaining descriptive columns and temporal elements."
   ]
  },
  {
   "cell_type": "code",
   "execution_count": 7,
   "id": "e0567223-c909-4d44-b9d1-27405c1ec10f",
   "metadata": {},
   "outputs": [
    {
     "data": {
      "text/html": [
       "<div>\n",
       "<style scoped>\n",
       "    .dataframe tbody tr th:only-of-type {\n",
       "        vertical-align: middle;\n",
       "    }\n",
       "\n",
       "    .dataframe tbody tr th {\n",
       "        vertical-align: top;\n",
       "    }\n",
       "\n",
       "    .dataframe thead th {\n",
       "        text-align: right;\n",
       "    }\n",
       "</style>\n",
       "<table border=\"1\" class=\"dataframe\">\n",
       "  <thead>\n",
       "    <tr style=\"text-align: right;\">\n",
       "      <th></th>\n",
       "      <th>Unnamed: 0</th>\n",
       "      <th>id</th>\n",
       "      <th>case_number</th>\n",
       "      <th>date</th>\n",
       "      <th>block</th>\n",
       "      <th>iucr</th>\n",
       "      <th>primary_type</th>\n",
       "      <th>description</th>\n",
       "      <th>location_description</th>\n",
       "      <th>arrest</th>\n",
       "      <th>...</th>\n",
       "      <th>ward</th>\n",
       "      <th>community_area</th>\n",
       "      <th>fbi_code</th>\n",
       "      <th>x_coordinate</th>\n",
       "      <th>y_coordinate</th>\n",
       "      <th>year</th>\n",
       "      <th>updated_on</th>\n",
       "      <th>latitude</th>\n",
       "      <th>longitude</th>\n",
       "      <th>location</th>\n",
       "    </tr>\n",
       "  </thead>\n",
       "  <tbody>\n",
       "    <tr>\n",
       "      <th>0</th>\n",
       "      <td>0</td>\n",
       "      <td>12013851</td>\n",
       "      <td>JD191098</td>\n",
       "      <td>2020-03-13T15:00:00.000</td>\n",
       "      <td>046XX W JACKSON BLVD</td>\n",
       "      <td>610</td>\n",
       "      <td>BURGLARY</td>\n",
       "      <td>FORCIBLE ENTRY</td>\n",
       "      <td>APARTMENT</td>\n",
       "      <td>False</td>\n",
       "      <td>...</td>\n",
       "      <td>28</td>\n",
       "      <td>25</td>\n",
       "      <td>5</td>\n",
       "      <td>1145423.0</td>\n",
       "      <td>1898285.0</td>\n",
       "      <td>2020</td>\n",
       "      <td>2020-03-25T15:45:43.000</td>\n",
       "      <td>41.876892</td>\n",
       "      <td>-87.741518</td>\n",
       "      <td>{'latitude': '41.876891751', 'longitude': '-87...</td>\n",
       "    </tr>\n",
       "  </tbody>\n",
       "</table>\n",
       "<p>1 rows × 23 columns</p>\n",
       "</div>"
      ],
      "text/plain": [
       "   Unnamed: 0        id case_number                     date  \\\n",
       "0           0  12013851    JD191098  2020-03-13T15:00:00.000   \n",
       "\n",
       "                  block  iucr primary_type     description  \\\n",
       "0  046XX W JACKSON BLVD   610     BURGLARY  FORCIBLE ENTRY   \n",
       "\n",
       "  location_description  arrest  ...  ward  community_area  fbi_code  \\\n",
       "0            APARTMENT   False  ...    28              25         5   \n",
       "\n",
       "   x_coordinate  y_coordinate  year               updated_on   latitude  \\\n",
       "0     1145423.0     1898285.0  2020  2020-03-25T15:45:43.000  41.876892   \n",
       "\n",
       "   longitude                                           location  \n",
       "0 -87.741518  {'latitude': '41.876891751', 'longitude': '-87...  \n",
       "\n",
       "[1 rows x 23 columns]"
      ]
     },
     "execution_count": 7,
     "metadata": {},
     "output_type": "execute_result"
    }
   ],
   "source": [
    "BURGLARY_2020.head(1)"
   ]
  },
  {
   "cell_type": "code",
   "execution_count": 8,
   "id": "69ae2ffe-94b9-4754-a8ee-609873a7fe6d",
   "metadata": {},
   "outputs": [],
   "source": [
    "# Removal of superfluous columns\n",
    "BURGLARY_2020_spatial = BURGLARY_2020[\n",
    "    [\"ward\", \"community_area\", \"latitude\", \"longitude\"]\n",
    "]"
   ]
  },
  {
   "cell_type": "markdown",
   "id": "dafafa50-83e0-4793-b235-4b51b77501bc",
   "metadata": {},
   "source": [
    "After reducing the complete dataset to a dataset with only municipal locations and coordinates in WSG84, pivot tables can provide an overview of the burglary case distribution across different levels of Chicago municipal districts."
   ]
  },
  {
   "cell_type": "code",
   "execution_count": 9,
   "id": "8eb72030-2e36-49f3-a745-cfd35b5337da",
   "metadata": {},
   "outputs": [],
   "source": [
    "# pivot tables initialisation\n",
    "ward_count = BURGLARY_2020_spatial[\"ward\"].value_counts()\n",
    "community_count = BURGLARY_2020_spatial[\"community_area\"].value_counts()"
   ]
  },
  {
   "cell_type": "code",
   "execution_count": 10,
   "id": "533deb94-dca3-45f0-8b4b-702ede8fd91e",
   "metadata": {},
   "outputs": [
    {
     "data": {
      "text/html": [
       "<style>\n",
       ".output {\n",
       "    flex-direction: row;\n",
       "}\n",
       "</style>"
      ],
      "text/plain": [
       "<IPython.core.display.HTML object>"
      ]
     },
     "execution_count": 10,
     "metadata": {},
     "output_type": "execute_result"
    }
   ],
   "source": [
    "# override CSS to make multiple dataframes be able to display together\n",
    "# https://softhints.com/display-two-pandas-dataframes-side-by-side-jupyter-notebook/\n",
    "css = \"\"\"\n",
    ".output {\n",
    "    flex-direction: row;\n",
    "}\n",
    "\"\"\"\n",
    "\n",
    "HTML(\"<style>{}</style>\".format(css))"
   ]
  },
  {
   "cell_type": "code",
   "execution_count": 11,
   "id": "05fc47e3-4af9-4c06-89a5-76e028405c0b",
   "metadata": {},
   "outputs": [
    {
     "data": {
      "text/html": [
       "<div>\n",
       "<style scoped>\n",
       "    .dataframe tbody tr th:only-of-type {\n",
       "        vertical-align: middle;\n",
       "    }\n",
       "\n",
       "    .dataframe tbody tr th {\n",
       "        vertical-align: top;\n",
       "    }\n",
       "\n",
       "    .dataframe thead th {\n",
       "        text-align: right;\n",
       "    }\n",
       "</style>\n",
       "<table border=\"1\" class=\"dataframe\">\n",
       "  <thead>\n",
       "    <tr style=\"text-align: right;\">\n",
       "      <th></th>\n",
       "      <th>community number</th>\n",
       "      <th>burglary count 2020</th>\n",
       "    </tr>\n",
       "  </thead>\n",
       "  <tbody>\n",
       "    <tr>\n",
       "      <th>0</th>\n",
       "      <td>1</td>\n",
       "      <td>117</td>\n",
       "    </tr>\n",
       "    <tr>\n",
       "      <th>1</th>\n",
       "      <td>2</td>\n",
       "      <td>167</td>\n",
       "    </tr>\n",
       "    <tr>\n",
       "      <th>2</th>\n",
       "      <td>3</td>\n",
       "      <td>112</td>\n",
       "    </tr>\n",
       "    <tr>\n",
       "      <th>3</th>\n",
       "      <td>4</td>\n",
       "      <td>100</td>\n",
       "    </tr>\n",
       "    <tr>\n",
       "      <th>4</th>\n",
       "      <td>5</td>\n",
       "      <td>84</td>\n",
       "    </tr>\n",
       "  </tbody>\n",
       "</table>\n",
       "</div>"
      ],
      "text/plain": [
       "   community number  burglary count 2020\n",
       "0                 1                  117\n",
       "1                 2                  167\n",
       "2                 3                  112\n",
       "3                 4                  100\n",
       "4                 5                   84"
      ]
     },
     "metadata": {},
     "output_type": "display_data"
    },
    {
     "data": {
      "text/html": [
       "<div>\n",
       "<style scoped>\n",
       "    .dataframe tbody tr th:only-of-type {\n",
       "        vertical-align: middle;\n",
       "    }\n",
       "\n",
       "    .dataframe tbody tr th {\n",
       "        vertical-align: top;\n",
       "    }\n",
       "\n",
       "    .dataframe thead th {\n",
       "        text-align: right;\n",
       "    }\n",
       "</style>\n",
       "<table border=\"1\" class=\"dataframe\">\n",
       "  <thead>\n",
       "    <tr style=\"text-align: right;\">\n",
       "      <th></th>\n",
       "      <th>ward</th>\n",
       "      <th>burglary count 2020</th>\n",
       "    </tr>\n",
       "  </thead>\n",
       "  <tbody>\n",
       "    <tr>\n",
       "      <th>0</th>\n",
       "      <td>1</td>\n",
       "      <td>191</td>\n",
       "    </tr>\n",
       "    <tr>\n",
       "      <th>1</th>\n",
       "      <td>2</td>\n",
       "      <td>189</td>\n",
       "    </tr>\n",
       "    <tr>\n",
       "      <th>2</th>\n",
       "      <td>3</td>\n",
       "      <td>166</td>\n",
       "    </tr>\n",
       "    <tr>\n",
       "      <th>3</th>\n",
       "      <td>4</td>\n",
       "      <td>176</td>\n",
       "    </tr>\n",
       "    <tr>\n",
       "      <th>4</th>\n",
       "      <td>5</td>\n",
       "      <td>277</td>\n",
       "    </tr>\n",
       "  </tbody>\n",
       "</table>\n",
       "</div>"
      ],
      "text/plain": [
       "   ward  burglary count 2020\n",
       "0     1                  191\n",
       "1     2                  189\n",
       "2     3                  166\n",
       "3     4                  176\n",
       "4     5                  277"
      ]
     },
     "metadata": {},
     "output_type": "display_data"
    }
   ],
   "source": [
    "# pivot tables sorting and display\n",
    "community_count = community_count.sort_index()\n",
    "community_count_frame = pd.DataFrame(\n",
    "    {\n",
    "        \"community number\": community_count.index,\n",
    "        \"burglary count 2020\": community_count.values,\n",
    "    }\n",
    ")\n",
    "\n",
    "ward_count = ward_count.sort_index()\n",
    "ward_count_frame = pd.DataFrame(\n",
    "    {\"ward\": ward_count.index, \"burglary count 2020\": ward_count.values}\n",
    ")\n",
    "\n",
    "display(community_count_frame.head())\n",
    "display(ward_count_frame.head())"
   ]
  },
  {
   "cell_type": "markdown",
   "id": "e386fb49-42b0-4e43-9c82-c245aaf7d0bd",
   "metadata": {},
   "source": [
    "In the first five districts (ward or community), we can see the variation in incident numbers between different areas."
   ]
  },
  {
   "cell_type": "markdown",
   "id": "7b01b5f1-8ed0-40fc-8030-5fea842f165f",
   "metadata": {},
   "source": [
    "### 2.4 Data Merging"
   ]
  },
  {
   "cell_type": "markdown",
   "id": "f1ac5173-da0e-460d-b648-82a5d769a5f4",
   "metadata": {},
   "source": [
    "Given that community population data and total burglary incident numbers within communities are available, it is straightforward to calculate the burglary rate (incidents per unit of population). The reason for choosing community-level analysis rather than ward is the ward is a political district, and ward boundaries change to reflect population shifts. Community borders, in contrast, are stable over time"
   ]
  },
  {
   "cell_type": "code",
   "execution_count": 12,
   "id": "f185b2bb-4188-45e7-9066-c86056b548b3",
   "metadata": {},
   "outputs": [
    {
     "data": {
      "text/html": [
       "<div>\n",
       "<style scoped>\n",
       "    .dataframe tbody tr th:only-of-type {\n",
       "        vertical-align: middle;\n",
       "    }\n",
       "\n",
       "    .dataframe tbody tr th {\n",
       "        vertical-align: top;\n",
       "    }\n",
       "\n",
       "    .dataframe thead th {\n",
       "        text-align: right;\n",
       "    }\n",
       "</style>\n",
       "<table border=\"1\" class=\"dataframe\">\n",
       "  <thead>\n",
       "    <tr style=\"text-align: right;\">\n",
       "      <th></th>\n",
       "      <th>community number</th>\n",
       "      <th>burglary count 2020</th>\n",
       "      <th>Population</th>\n",
       "      <th>incident rate per 1000 people</th>\n",
       "    </tr>\n",
       "  </thead>\n",
       "  <tbody>\n",
       "    <tr>\n",
       "      <th>0</th>\n",
       "      <td>1</td>\n",
       "      <td>117</td>\n",
       "      <td>55628</td>\n",
       "      <td>2.103257</td>\n",
       "    </tr>\n",
       "    <tr>\n",
       "      <th>1</th>\n",
       "      <td>2</td>\n",
       "      <td>167</td>\n",
       "      <td>77122</td>\n",
       "      <td>2.165400</td>\n",
       "    </tr>\n",
       "    <tr>\n",
       "      <th>2</th>\n",
       "      <td>3</td>\n",
       "      <td>112</td>\n",
       "      <td>57182</td>\n",
       "      <td>1.958658</td>\n",
       "    </tr>\n",
       "    <tr>\n",
       "      <th>3</th>\n",
       "      <td>4</td>\n",
       "      <td>100</td>\n",
       "      <td>40494</td>\n",
       "      <td>2.469502</td>\n",
       "    </tr>\n",
       "    <tr>\n",
       "      <th>4</th>\n",
       "      <td>5</td>\n",
       "      <td>84</td>\n",
       "      <td>35114</td>\n",
       "      <td>2.392208</td>\n",
       "    </tr>\n",
       "    <tr>\n",
       "      <th>...</th>\n",
       "      <td>...</td>\n",
       "      <td>...</td>\n",
       "      <td>...</td>\n",
       "      <td>...</td>\n",
       "    </tr>\n",
       "    <tr>\n",
       "      <th>72</th>\n",
       "      <td>73</td>\n",
       "      <td>114</td>\n",
       "      <td>25065</td>\n",
       "      <td>4.548175</td>\n",
       "    </tr>\n",
       "    <tr>\n",
       "      <th>73</th>\n",
       "      <td>74</td>\n",
       "      <td>13</td>\n",
       "      <td>18628</td>\n",
       "      <td>0.697874</td>\n",
       "    </tr>\n",
       "    <tr>\n",
       "      <th>74</th>\n",
       "      <td>75</td>\n",
       "      <td>87</td>\n",
       "      <td>21186</td>\n",
       "      <td>4.106485</td>\n",
       "    </tr>\n",
       "    <tr>\n",
       "      <th>75</th>\n",
       "      <td>76</td>\n",
       "      <td>6</td>\n",
       "      <td>13418</td>\n",
       "      <td>0.447161</td>\n",
       "    </tr>\n",
       "    <tr>\n",
       "      <th>76</th>\n",
       "      <td>77</td>\n",
       "      <td>95</td>\n",
       "      <td>56296</td>\n",
       "      <td>1.687509</td>\n",
       "    </tr>\n",
       "  </tbody>\n",
       "</table>\n",
       "<p>77 rows × 4 columns</p>\n",
       "</div>"
      ],
      "text/plain": [
       "    community number  burglary count 2020  Population  \\\n",
       "0                  1                  117       55628   \n",
       "1                  2                  167       77122   \n",
       "2                  3                  112       57182   \n",
       "3                  4                  100       40494   \n",
       "4                  5                   84       35114   \n",
       "..               ...                  ...         ...   \n",
       "72                73                  114       25065   \n",
       "73                74                   13       18628   \n",
       "74                75                   87       21186   \n",
       "75                76                    6       13418   \n",
       "76                77                   95       56296   \n",
       "\n",
       "    incident rate per 1000 people  \n",
       "0                        2.103257  \n",
       "1                        2.165400  \n",
       "2                        1.958658  \n",
       "3                        2.469502  \n",
       "4                        2.392208  \n",
       "..                            ...  \n",
       "72                       4.548175  \n",
       "73                       0.697874  \n",
       "74                       4.106485  \n",
       "75                       0.447161  \n",
       "76                       1.687509  \n",
       "\n",
       "[77 rows x 4 columns]"
      ]
     },
     "execution_count": 12,
     "metadata": {},
     "output_type": "execute_result"
    }
   ],
   "source": [
    "crime_rate_2020_frame = pd.merge(\n",
    "    community_count_frame, chicago_community_pop, on=\"community number\"\n",
    ")\n",
    "crime_rate_2020_frame\n",
    "crime_rate_2020_frame[\"incident rate per 1000 people\"] = crime_rate_2020_frame[\n",
    "    \"burglary count 2020\"\n",
    "] / (crime_rate_2020_frame[\"Population\"] / 1000) # new column, incident rate per 1000 people, based on two existing columns: burglary count 2020 and population\n",
    "\n",
    "crime_rate_2020_frame"
   ]
  },
  {
   "cell_type": "markdown",
   "id": "a834a3a8-90cb-43e6-ac1c-1bc19599cbed",
   "metadata": {},
   "source": [
    "## 3. Exploratory Plotting"
   ]
  },
  {
   "cell_type": "markdown",
   "id": "e6c1ac7b-4947-4fb5-8b72-75608ed42d64",
   "metadata": {},
   "source": [
    "With the help from the package geopandas, this section plots the visualisation of locations of crime events over the Chicago map. This raw represetation provides an intuitive impression, the burglary pattern does not have a even distribution across the space. Four south-east districts and a few north-west areas have fewer cases compared with remaining communities."
   ]
  },
  {
   "cell_type": "code",
   "execution_count": 15,
   "id": "89651eab-efa4-45ab-8d7e-07b5cb8c5f1b",
   "metadata": {},
   "outputs": [
    {
     "name": "stderr",
     "output_type": "stream",
     "text": [
      "/opt/conda/envs/sds2021/lib/python3.9/site-packages/pyproj/crs/crs.py:68: FutureWarning: '+init=<authority>:<code>' syntax is deprecated. '<authority>:<code>' is the preferred initialization method. When making the change, be mindful of axis order changes: https://pyproj4.github.io/pyproj/stable/gotchas.html#axis-order-changes-in-proj-6\n",
      "  return _prepare_from_string(\" \".join(pjargs))\n"
     ]
    },
    {
     "data": {
      "text/plain": [
       "<AxesSubplot:>"
      ]
     },
     "execution_count": 15,
     "metadata": {},
     "output_type": "execute_result"
    },
    {
     "data": {
      "image/png": "[encoded data removed]",
      "text/plain": [
       "<Figure size 720x504 with 1 Axes>"
      ]
     },
     "metadata": {
      "needs_background": "light"
     },
     "output_type": "display_data"
    }
   ],
   "source": [
    "crs = {\"init\": \"epsg:4326\"}\n",
    "geometry = [\n",
    "    Point(xy) for xy in zip(BURGLARY_2020[\"longitude\"], BURGLARY_2020[\"latitude\"])\n",
    "]\n",
    "geodata = gpd.GeoDataFrame(BURGLARY_2020, crs=crs, geometry=geometry)\n",
    "fig, ax = plt.subplots(figsize=(10, 7))\n",
    "chicago_community.plot(ax=ax)\n",
    "geodata.plot(ax=ax, color=\"red\", markersize=1)\n",
    "\n",
    "# some ideas from this article: https://www.linkedin.com/pulse/geopandas-plotting-data-points-map-using-python-r%C3%A9gis-nisengwe/"
   ]
  },
  {
   "cell_type": "markdown",
   "id": "f6438dba-4b6e-4cbe-986c-fae758832a4d",
   "metadata": {},
   "source": [
    "## 3. Methodology"
   ]
  },
  {
   "cell_type": "markdown",
   "id": "944e5720-c0c8-4147-b3c2-ee9f82871dae",
   "metadata": {},
   "source": [
    "# Bibliography"
   ]
  },
  {
   "cell_type": "markdown",
   "id": "97023611-2c81-4b1a-922a-8095c8456ddc",
   "metadata": {},
   "source": [
    "FBI UCR. 2019. Burglary. [online] Available at: <https://ucr.fbi.gov/crime-in-the-u.s/2019/crime-in-the-u.s.-2019/topic-pages/burglary> [Accessed 17 March 2022].\n",
    "\n",
    "Craglia, M., Haining, R. and Wiles, P., 2000. A Comparative Evaluation of Approaches to Urban Crime Pattern Analysis. Urban Studies, 37(4), pp.711-729.\n",
    "\n",
    "Andresen, M., 2005. Crime Measures and the Spatial Analysis of Criminal Activity. The British Journal of Criminology, 46(2), pp.258-285.\n",
    "\n",
    "Mungekar, D., Joshi, H., Kankekar, A., Nair, P. and Das, P., 2021. Crime Analysis using DBSCAN Algorithm. 2021 Third International Conference on Inventive Research in Computing Applications (ICIRCA),.\n",
    "\n",
    "Sivaranjani, S., Sivakumari, S. and Aasha, M., 2016. Crime prediction and forecasting in Tamilnadu using clustering approaches. 2016 International Conference on Emerging Technological Trends (ICETT),."
   ]
  }
 ],
 "metadata": {
  "kernelspec": {
   "display_name": "Python 3 (ipykernel)",
   "language": "python",
   "name": "python3"
  },
  "language_info": {
   "codemirror_mode": {
    "name": "ipython",
    "version": 3
   },
   "file_extension": ".py",
   "mimetype": "text/x-python",
   "name": "python",
   "nbconvert_exporter": "python",
   "pygments_lexer": "ipython3",
   "version": "3.9.6"
  },
  "toc-autonumbering": false,
  "toc-showmarkdowntxt": false,
  "toc-showtags": false
 },
 "nbformat": 4,
 "nbformat_minor": 5
}
